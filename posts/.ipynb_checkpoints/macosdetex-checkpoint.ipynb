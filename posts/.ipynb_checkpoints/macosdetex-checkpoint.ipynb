{
 "cells": [
  {
   "cell_type": "markdown",
   "metadata": {},
   "source": [
    "ドキュメント作成するとなったらTeXですよね！\n",
    "昔は色々あってWordで書いてたけど、分量増えると死ぬしHTMLにならんし（なるけど崩れるなど）、色々面倒になって最近はSphinxからLaTeX吐いてPDFで作ってるてっしーです。\n",
    "\n",
    "そんで、毎度のことでTeXLiveのインストール方法を忘れるのでメモ。余分なのは不要なのでもっぱらbasictex派です。\n",
    "\n",
    "```sh\n",
    "brew cask install basictex\n",
    "/usr/local/texlive/2019basic/bin/x86_64-darwin/tlmgr path add\n",
    "sudo tlmgr update --self --all\n",
    "sudo tlmgr paper a4\n",
    "# Sphinxで使うのでインストール\n",
    "sudo tlmgr install latexmk titlesec tabulary varwidth framed wrapfig capt-of needspace helvetic collection-fontsrecommended collection-langjapanese\n",
    "```  \n",
    "\n",
    "これで完璧！"
   ]
  }
 ],
 "metadata": {
  "kernelspec": {
   "display_name": "Python 3",
   "language": "python",
   "name": "python3"
  },
  "language_info": {
   "codemirror_mode": {
    "name": "ipython",
    "version": 3
   },
   "file_extension": ".py",
   "mimetype": "text/x-python",
   "name": "python",
   "nbconvert_exporter": "python",
   "pygments_lexer": "ipython3",
   "version": "3.7.2"
  },
  "nikola": {
   "category": "",
   "date": "2019-06-18 11:19:42+09:00",
   "description": "",
   "link": "",
   "slug": "macosdetex",
   "tags": "",
   "title": "macOSでTeX",
   "type": "text"
  }
 },
 "nbformat": 4,
 "nbformat_minor": 2
}

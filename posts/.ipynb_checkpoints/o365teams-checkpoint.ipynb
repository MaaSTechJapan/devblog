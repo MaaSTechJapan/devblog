{
 "cells": [
  {
   "cell_type": "markdown",
   "metadata": {},
   "source": [
    "弊社、Microsoft teamsが主要コミュニケーションツールです。\n",
    "\n",
    "んでこのteams、"
   ]
  }
 ],
 "metadata": {
  "kernelspec": {
   "display_name": "Python 3",
   "language": "python",
   "name": "python3"
  },
  "language_info": {
   "codemirror_mode": {
    "name": "ipython",
    "version": 3
   },
   "file_extension": ".py",
   "mimetype": "text/x-python",
   "name": "python",
   "nbconvert_exporter": "python",
   "pygments_lexer": "ipython3",
   "version": "3.7.4"
  },
  "nikola": {
   "category": "",
   "date": "2019-06-18 11:19:42+09:00",
   "description": "",
   "link": "",
   "slug": "o365teams",
   "tags": "",
   "title": "teamsで作ったOffice365グループをOutlookに表示する方法",
   "type": "text"
  }
 },
 "nbformat": 4,
 "nbformat_minor": 2
}

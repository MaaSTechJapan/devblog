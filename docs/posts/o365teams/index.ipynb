{
 "cells": [
  {
   "cell_type": "markdown",
   "metadata": {},
   "source": [
    "弊社、Microsoft teamsが主要コミュニケーションツールです。\n",
    "\n",
    "んでこのteams、チームというものを作ると、Office365グループが裏で自動生成されます。このOffice365グループ、自身にメールアドレス持ってたりカレンダー持ってたりで複数人で情報共有する場合、Outlookで閲覧できて便利なのですが、何故かteamsから作った場合Outlookで表示されない=それらの機能が使えない・・・\n",
    "\n",
    "実は三、四ヶ月前にも同じ問題にぶち当たったのですが原因わからず放置してたのですが、いよいよきちんと整理整頓しないとまずいお気持ちになってきたので調べたところ、ありました。\n",
    "\n",
    "どうやら過去のあるタイミングでtemsでチームを作った場合に生成されるOffice365グループはデフォルトで不可視になった模様。そんでもってどうやら表示させる方法はあるようなのだが・・・\n",
    "\n",
    "> 顧客のフィードバックに基づき、Microsoft Teams でチームを作成した結果として生成された新しい Office 365 グループは、既定では Outlook に表示されなくなります。 Outlook でこれらのグループを表示する既存の動作を継続する場合は、Exchange Online PowerShell コマンドレットが提供されます。これにより、Outlook のエクスペリエンスにグループを有効にすることができます。 Outlook を使用して作成されたグループで、後で Teams を有効にした場合は、Outlook と Teams の両方に表示されたままになります。 この更新プログラムは、数か月以内に Outlook と Teams の間で段階的にロールアウトされます。\n",
    "\n",
    "https://docs.microsoft.com/ja-jp/microsoftteams/office-365-groups\n",
    "\n",
    "この更新プログラムって、他に全く言及されてなくていつなのかも全くわからず・・・ナンジャコリャと思って大元のドキュメント調べたら、ありました、フラグの設定。\n",
    "\n",
    "```\n",
    "-HiddenFromExchangeClientsEnabled\n",
    "    The HiddenFromExchangeClientsEnabled switch specifies whether the Office 365 Group is hidden from Outlook clients connected to Office 365.\n",
    "```\n",
    "\n",
    "https://docs.microsoft.com/en-us/powershell/module/exchange/users-and-groups/set-unifiedgroup?view=exchange-ps\n",
    "\n",
    "というわけで、以下設定用PowerShell Script。\n",
    "\n",
    "```PowerShell\n",
    "$MyUserName = \"FOO@BAR.onmicrosoft.com\";\n",
    "$MyPassword = ConvertTo-SecureString 'PASSWORD' -asplaintext -force;\n",
    "$UserCredential = [System.Management.Automation.PSCredential]::new($MyUserName, $MyPassword)\n",
    "$Session = New-PSSession -ConfigurationName Microsoft.Exchange -ConnectionUri https://outlook.office365.com/powershell-liveid/ -Credential $UserCredential -Authentication Basic -AllowRedirection\n",
    "Import-PSSession $Session\n",
    "\n",
    "Set-UnifiedGroup -Identity \"GUID_OR_GROUP-EMAIL-ADDRESS\" -HiddenFromExchangeClientsEnabled:$false\n",
    "```\n",
    "\n",
    "これでOutlookに表示される様になりました！めでたしめでたし。"
   ]
  }
 ],
 "metadata": {
  "kernelspec": {
   "display_name": "Python 3",
   "language": "python",
   "name": "python3"
  },
  "language_info": {
   "codemirror_mode": {
    "name": "ipython",
    "version": 3
   },
   "file_extension": ".py",
   "mimetype": "text/x-python",
   "name": "python",
   "nbconvert_exporter": "python",
   "pygments_lexer": "ipython3",
   "version": "3.7.4"
  },
  "nikola": {
   "category": "",
   "date": "2019-06-18 11:19:42+09:00",
   "description": "",
   "link": "",
   "slug": "o365teams",
   "tags": "",
   "title": "teamsで作ったOffice365グループをOutlookに表示する方法",
   "type": "text"
  }
 },
 "nbformat": 4,
 "nbformat_minor": 2
}
